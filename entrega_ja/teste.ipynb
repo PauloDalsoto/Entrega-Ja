{
 "cells": [
  {
   "cell_type": "code",
   "execution_count": 3,
   "metadata": {},
   "outputs": [],
   "source": [
    "import os\n",
    "import requests\n",
    "from dotenv import load_dotenv\n",
    "\n",
    "\n",
    "# Carregar as variáveis de ambiente'\n",
    "load_dotenv()\n",
    "GOOGLE_MAPS_API_KEY = os.getenv(\"GOOGLE_MAPS_API_KEY\")\n"
   ]
  },
  {
   "cell_type": "code",
   "execution_count": 4,
   "metadata": {},
   "outputs": [
    {
     "name": "stdout",
     "output_type": "stream",
     "text": [
      "{'geocoded_waypoints': [{'geocoder_status': 'OK', 'place_id': 'ChIJtQDan0RpGZUROspmDfV3axw', 'types': ['street_address']}, {'geocoder_status': 'OK', 'place_id': 'ChIJ1xsBRFBoGZURBbyytSc733c', 'types': ['premise']}, {'geocoder_status': 'OK', 'place_id': 'ChIJVVVV-floGZURCqRn1jjn0S4', 'types': ['cemetery', 'establishment', 'point_of_interest']}, {'geocoder_status': 'OK', 'place_id': 'ChIJVzFmDgJpGZURhil2nep4dXk', 'types': ['premise']}, {'geocoder_status': 'OK', 'place_id': 'ChIJtQDan0RpGZUROspmDfV3axw', 'types': ['street_address']}], 'routes': [{'bounds': {'northeast': {'lat': -29.768552, 'lng': -51.1371188}, 'southwest': {'lat': -29.7986827, 'lng': -51.1629138}}, 'copyrights': 'Map data ©2024', 'legs': [{'distance': {'text': '4.9 km', 'value': 4891}, 'duration': {'text': '10 mins', 'value': 574}, 'end_address': 'R. Primeiro de Março, 821 - Centro, São Leopoldo - RS, 93010-210, Brazil', 'end_location': {'lat': -29.769201, 'lng': -51.1466214}, 'start_address': 'Av. Unisinos, 950 - Cristo Rei, São Leopoldo - RS, 93022-750, Brazil', 'start_location': {'lat': -29.7975427, 'lng': -51.1566894}, 'steps': [{'distance': {'text': '54 m', 'value': 54}, 'duration': {'text': '1 min', 'value': 17}, 'end_location': {'lat': -29.7977886, 'lng': -51.1571405}, 'html_instructions': 'Head <b>west</b>', 'polyline': {'points': 'ryztDhpfwHDTDVHTZT'}, 'start_location': {'lat': -29.7975427, 'lng': -51.1566894}, 'travel_mode': 'DRIVING'}, {'distance': {'text': '0.6 km', 'value': 569}, 'duration': {'text': '1 min', 'value': 67}, 'end_location': {'lat': -29.7942267, 'lng': -51.15802559999999}, 'html_instructions': 'Turn <b>right</b><div style=\"font-size:0.9em\">Go through 1 roundabout</div>', 'maneuver': 'turn-right', 'polyline': {'points': 'd{ztDbsfwHGHQXINIJEHILGPEPA?A?A@A??@A?A@A@?@A@A@?@A@?@?@?@?@?@?@?@?@?@Ub@Sj@a@fAGLSf@KRMPQPA?SLOHODK@MBO@K?QAQCQGUKQM?AOMQWMUU_@_@s@KOKOMKACOKUQQIQGQGGAC?E?C?EBCD'}, 'start_location': {'lat': -29.7977886, 'lng': -51.1571405}, 'travel_mode': 'DRIVING'}, {'distance': {'text': '0.1 km', 'value': 149}, 'duration': {'text': '1 min', 'value': 28}, 'end_location': {'lat': -29.7929476, 'lng': -51.1582872}, 'html_instructions': 'At the roundabout, continue straight onto <b>R. Padre Aloysio Shenem</b>', 'maneuver': 'roundabout-right', 'polyline': {'points': '|dztDtxfwHAA?AAA?AA?AAA??AA?A??AA?A?A?A?A?A@A?A@A??@A?u@Ni@JcALYF_@H'}, 'start_location': {'lat': -29.7942267, 'lng': -51.15802559999999}, 'travel_mode': 'DRIVING'}, {'distance': {'text': '0.7 km', 'value': 704}, 'duration': {'text': '1 min', 'value': 54}, 'end_location': {'lat': -29.7890816, 'lng': -51.1621617}, 'html_instructions': 'Turn <b>left</b> onto <b>Av. Unisinos</b>', 'maneuver': 'turn-left', 'polyline': {'points': '||ytDhzfwH_@FBTB^@JB`@HjA?N?TEf@E\\\\AJA@G\\\\CHCHGTIPEJIPUj@oAnBS\\\\W`@q@~@_@b@QPYTSJ]JMDG@O@a@DU?W?_AIQCgC[i@I'}, 'start_location': {'lat': -29.7929476, 'lng': -51.1582872}, 'travel_mode': 'DRIVING'}, {'distance': {'text': '0.4 km', 'value': 389}, 'duration': {'text': '1 min', 'value': 26}, 'end_location': {'lat': -29.78582979999999, 'lng': -51.1629138}, 'html_instructions': 'Take the ramp to <b>Novo Hamburgo</b>', 'polyline': {'points': 'vdytDnrgwH_BQqAMa@EA?MAM?]?QBQFQHSLQLYVCBKHSPYTe@ZOJWHSDM@E?[@E?Y@S?'}, 'start_location': {'lat': -29.7890816, 'lng': -51.1621617}, 'travel_mode': 'DRIVING'}, {'distance': {'text': '1.8 km', 'value': 1766}, 'duration': {'text': '2 mins', 'value': 120}, 'end_location': {'lat': -29.7724745, 'lng': -51.1539575}, 'html_instructions': 'Merge onto <b>Av. Getúlio Vargas</b><div style=\"font-size:0.9em\">Pass by Boutique De Noivas (on the right in 1.2 km)</div>', 'maneuver': 'merge', 'polyline': {'points': 'lpxtDdwgwHo@IGAaAW_A_@MEs@k@YUa@a@]]{AeBu@w@]a@e@g@iAiAa@c@uDaE]a@aCmCm@o@SS_AeAQSi@m@oAuAqAuAcA_ACC_@]SMGE[OUMc@SCA]MYKQEi@MqCi@]G_@IMCKCeB[aCc@_Ce@SEmBa@eB[WGy@OcAS'}, 'start_location': {'lat': -29.78582979999999, 'lng': -51.1629138}, 'travel_mode': 'DRIVING'}, {'distance': {'text': '0.8 km', 'value': 836}, 'duration': {'text': '2 mins', 'value': 123}, 'end_location': {'lat': -29.7711951, 'lng': -51.1454289}, 'html_instructions': 'Turn <b>right</b> onto <b>Av. João Corrêa</b> (signs for <b>Túmulo Pe Reus</b>/<wbr/><b>Museu do Trem</b>/<wbr/><b>Casa do Imigrante</b>/<wbr/><b>Centro de Eventos</b>)<div style=\"font-size:0.9em\">Pass by Grupo Universal (on the left)</div>', 'maneuver': 'turn-right', 'polyline': {'points': '||utDf_fwH?g@]iDYyC?EE]K}A[eDW{CI_AGu@Ek@AIEk@C]E]AYy@{JKkBAAAUIkA'}, 'start_location': {'lat': -29.7724745, 'lng': -51.1539575}, 'travel_mode': 'DRIVING'}, {'distance': {'text': '0.3 km', 'value': 301}, 'duration': {'text': '2 mins', 'value': 95}, 'end_location': {'lat': -29.768552, 'lng': -51.1460862}, 'html_instructions': 'Turn <b>left</b> after Kualitá Moda Feminina (on the left)', 'maneuver': 'turn-left', 'polyline': {'points': '~tutD|idwHYFw@LcDf@]F_C\\\\e@FwAV'}, 'start_location': {'lat': -29.7711951, 'lng': -51.1454289}, 'travel_mode': 'DRIVING'}, {'distance': {'text': '64 m', 'value': 64}, 'duration': {'text': '1 min', 'value': 25}, 'end_location': {'lat': -29.7686808, 'lng': -51.1467325}, 'html_instructions': 'Turn <b>left</b> after Mimus Acessórios e Bijuterias (on the left)', 'maneuver': 'turn-left', 'polyline': {'points': 'ldutD`ndwHR~AD^'}, 'start_location': {'lat': -29.768552, 'lng': -51.1460862}, 'travel_mode': 'DRIVING'}, {'distance': {'text': '59 m', 'value': 59}, 'duration': {'text': '1 min', 'value': 19}, 'end_location': {'lat': -29.769201, 'lng': -51.1466214}, 'html_instructions': 'Turn <b>left</b><div style=\"font-size:0.9em\">Destination will be on the right</div>', 'maneuver': 'turn-left', 'polyline': {'points': 'feutD`rdwHfBU'}, 'start_location': {'lat': -29.7686808, 'lng': -51.1467325}, 'travel_mode': 'DRIVING'}], 'traffic_speed_entry': [], 'via_waypoint': []}, {'distance': {'text': '2.0 km', 'value': 2044}, 'duration': {'text': '6 mins', 'value': 347}, 'end_address': 'Cristo Rei, São Leopoldo - RS, 93020-190, Brazil', 'end_location': {'lat': -29.7826059, 'lng': -51.1478636}, 'start_address': 'R. Primeiro de Março, 821 - Centro, São Leopoldo - RS, 93010-210, Brazil', 'start_location': {'lat': -29.769201, 'lng': -51.1466214}, 'steps': [{'distance': {'text': '80 m', 'value': 80}, 'duration': {'text': '1 min', 'value': 24}, 'end_location': {'lat': -29.7696715, 'lng': -51.1469083}, 'html_instructions': 'Head <b>south</b> toward <b>R. Bento Gonçalves</b>', 'polyline': {'points': 'nhutDjqdwH@?hAOPhA'}, 'start_location': {'lat': -29.769201, 'lng': -51.1466214}, 'travel_mode': 'DRIVING'}, {'distance': {'text': '0.3 km', 'value': 315}, 'duration': {'text': '1 min', 'value': 83}, 'end_location': {'lat': -29.7724296, 'lng': -51.1461704}, 'html_instructions': 'Turn <b>left</b> onto <b>R. Bento Gonçalves</b>', 'maneuver': 'turn-left', 'polyline': {'points': 'lkutDdsdwHbAQx@QbBYlAQZGzE{@'}, 'start_location': {'lat': -29.7696715, 'lng': -51.1469083}, 'travel_mode': 'DRIVING'}, {'distance': {'text': '0.2 km', 'value': 176}, 'duration': {'text': '1 min', 'value': 34}, 'end_location': {'lat': -29.7727561, 'lng': -51.1479575}, 'html_instructions': 'Turn <b>right</b> at the 3rd cross street onto <b>R. Florêncio Câmara</b>', 'maneuver': 'turn-right', 'polyline': {'points': 't|utDpndwHNxA@TRpAHnAPrA'}, 'start_location': {'lat': -29.7724296, 'lng': -51.1461704}, 'travel_mode': 'DRIVING'}, {'distance': {'text': '1.2 km', 'value': 1238}, 'duration': {'text': '3 mins', 'value': 161}, 'end_location': {'lat': -29.7836723, 'lng': -51.1465079}, 'html_instructions': 'Turn <b>left</b> onto <b>Av. Theodomiro Porto da Fonseca</b><div style=\"font-size:0.9em\">Pass by Agropet2Amores (on the right in 950m)</div>', 'maneuver': 'turn-left', 'polyline': {'points': 'v~utDvydwHBLVGfAURCTEb@A^?\\\\?X?Z@bAAhAD~@@bABp@@J?P?pADX@vAFPA`B@X@R@t@BRAHAPCTCXETEfAQTErAQ`@InCg@fAQbAQf@KbC_@tBi@d@Mp@K\\\\GhASXG'}, 'start_location': {'lat': -29.7727561, 'lng': -51.1479575}, 'travel_mode': 'DRIVING'}, {'distance': {'text': '0.1 km', 'value': 133}, 'duration': {'text': '1 min', 'value': 19}, 'end_location': {'lat': -29.7835216, 'lng': -51.1478411}, 'html_instructions': 'Sharp <b>right</b>', 'maneuver': 'turn-sharp-right', 'polyline': {'points': '|bxtDtpdwHQZCHAH?hAEnC'}, 'start_location': {'lat': -29.7836723, 'lng': -51.1465079}, 'travel_mode': 'DRIVING'}, {'distance': {'text': '0.1 km', 'value': 102}, 'duration': {'text': '1 min', 'value': 26}, 'end_location': {'lat': -29.7826059, 'lng': -51.1478636}, 'html_instructions': 'Turn <b>right</b><div style=\"font-size:0.9em\">Destination will be on the right</div>', 'maneuver': 'turn-right', 'polyline': {'points': '~axtD~xdwHsCBa@?'}, 'start_location': {'lat': -29.7835216, 'lng': -51.1478411}, 'travel_mode': 'DRIVING'}], 'traffic_speed_entry': [], 'via_waypoint': []}, {'distance': {'text': '2.0 km', 'value': 2009}, 'duration': {'text': '5 mins', 'value': 301}, 'end_address': 'R. Pres. João Goulart, 1080 - Morro do Espelho, São Leopoldo - RS, 93030-090, Brazil', 'end_location': {'lat': -29.7802992, 'lng': -51.1371188}, 'start_address': 'Cristo Rei, São Leopoldo - RS, 93020-190, Brazil', 'start_location': {'lat': -29.7826059, 'lng': -51.1478636}, 'steps': [{'distance': {'text': '0.2 km', 'value': 192}, 'duration': {'text': '1 min', 'value': 37}, 'end_location': {'lat': -29.7843311, 'lng': -51.1478773}, 'html_instructions': 'Head <b>south</b> toward <b>R. Regina Mundi</b>', 'polyline': {'points': 'h|wtDbydwH`@?rCC`DF'}, 'start_location': {'lat': -29.7826059, 'lng': -51.1478636}, 'travel_mode': 'DRIVING'}, {'distance': {'text': '0.1 km', 'value': 144}, 'duration': {'text': '1 min', 'value': 32}, 'end_location': {'lat': -29.7841037, 'lng': -51.1464055}, 'html_instructions': 'Turn <b>left</b> onto <b>R. Regina Mundi</b>', 'maneuver': 'turn-left', 'polyline': {'points': '`gxtDfydwHGeAOaBU}B'}, 'start_location': {'lat': -29.7843311, 'lng': -51.1478773}, 'travel_mode': 'DRIVING'}, {'distance': {'text': '0.6 km', 'value': 628}, 'duration': {'text': '1 min', 'value': 82}, 'end_location': {'lat': -29.7786618, 'lng': -51.1477655}, 'html_instructions': 'Turn <b>left</b> at the 1st cross street onto <b>Av. Theodomiro Porto da Fonseca</b>', 'maneuver': 'turn-left', 'polyline': {'points': 'rextD`pdwHAO}@Lq@JkARmAPe@NuBj@aANc@HeAPeAPeAPoCb@a@HgBTK@y@L'}, 'start_location': {'lat': -29.7841037, 'lng': -51.1464055}, 'travel_mode': 'DRIVING'}, {'distance': {'text': '0.5 km', 'value': 514}, 'duration': {'text': '2 mins', 'value': 93}, 'end_location': {'lat': -29.7795069, 'lng': -51.1425358}, 'html_instructions': 'Turn <b>right</b> onto <b>R. Pres. João Goulart</b>', 'maneuver': 'turn-right', 'polyline': {'points': 'rcwtDpxdwHNmA@OR{ANmBJ{ARiB\\\\sEFs@JaADk@J{ANuA'}, 'start_location': {'lat': -29.7786618, 'lng': -51.1477655}, 'travel_mode': 'DRIVING'}, {'distance': {'text': '0.5 km', 'value': 531}, 'duration': {'text': '1 min', 'value': 57}, 'end_location': {'lat': -29.7802992, 'lng': -51.1371188}, 'html_instructions': 'Continue onto <b>Av. Pres. João Goulart</b><div style=\"font-size:0.9em\">Destination will be on the left</div>', 'polyline': {'points': '|hwtDzwcwH@SRgBXyCLqAB[Hy@LkALgA?_@LyB?CDs@HuAHwAFy@@WBW'}, 'start_location': {'lat': -29.7795069, 'lng': -51.1425358}, 'travel_mode': 'DRIVING'}], 'traffic_speed_entry': [], 'via_waypoint': []}, {'distance': {'text': '4.1 km', 'value': 4119}, 'duration': {'text': '9 mins', 'value': 525}, 'end_address': 'Av. Unisinos, 950 - Cristo Rei, São Leopoldo - RS, 93022-750, Brazil', 'end_location': {'lat': -29.7975427, 'lng': -51.1566894}, 'start_address': 'R. Pres. João Goulart, 1080 - Morro do Espelho, São Leopoldo - RS, 93030-090, Brazil', 'start_location': {'lat': -29.7802992, 'lng': -51.1371188}, 'steps': [{'distance': {'text': '0.5 km', 'value': 531}, 'duration': {'text': '1 min', 'value': 56}, 'end_location': {'lat': -29.7795069, 'lng': -51.1425358}, 'html_instructions': 'Head <b>west</b> on <b>Av. Pres. João Goulart</b> toward <b>R. Osvaldo Benevides Dantas</b>', 'polyline': {'points': 'zmwtD~ubwHCVAVGx@IvAItAEr@?BMxB?^MfAMjAIx@CZMpAYxCSfBAR'}, 'start_location': {'lat': -29.7802992, 'lng': -51.1371188}, 'travel_mode': 'DRIVING'}, {'distance': {'text': '0.2 km', 'value': 167}, 'duration': {'text': '1 min', 'value': 37}, 'end_location': {'lat': -29.7792376, 'lng': -51.1442391}, 'html_instructions': 'Continue onto <b>R. Pres. João Goulart</b>', 'polyline': {'points': '|hwtDzwcwHOtAKzAEj@K`AGr@'}, 'start_location': {'lat': -29.7795069, 'lng': -51.1425358}, 'travel_mode': 'DRIVING'}, {'distance': {'text': '0.9 km', 'value': 942}, 'duration': {'text': '2 mins', 'value': 110}, 'end_location': {'lat': -29.7873498, 'lng': -51.1415106}, 'html_instructions': 'Turn <b>left</b> onto <b>R. do Parque</b>', 'maneuver': 'turn-left', 'polyline': {'points': 'fgwtDnbdwHt@Gv@EhBU\\\\GD?`C[\\\\Id@Kb@Il@MdDy@v@UpBo@@?^K`@MDA^On@UNEjDy@rA]`@M`@M`@M@?VKbBi@bBk@'}, 'start_location': {'lat': -29.7792376, 'lng': -51.1442391}, 'travel_mode': 'DRIVING'}, {'distance': {'text': '1.0 km', 'value': 1039}, 'duration': {'text': '2 mins', 'value': 129}, 'end_location': {'lat': -29.791308, 'lng': -51.1511748}, 'html_instructions': 'Turn <b>right</b> onto <b>Av. Unisinos</b><div style=\"font-size:0.9em\">Go through 1 roundabout</div>', 'maneuver': 'turn-right', 'polyline': {'points': '|yxtDlqcwHRj@Rj@BHPb@t@hBDLDLJT?BN^f@vAL`@PVXl@?@?@?@?@?@?@?@@??@?@@??@@?@@@?@?Ln@H`@ZxA\\\\~@@BBFJVNb@jAfDl@dBZ|@HTDNDH`@fAXv@Z`A^hAf@bB@DFRNp@DRTvBVvB'}, 'start_location': {'lat': -29.7873498, 'lng': -51.1415106}, 'travel_mode': 'DRIVING'}, {'distance': {'text': '0.6 km', 'value': 580}, 'duration': {'text': '2 mins', 'value': 91}, 'end_location': {'lat': -29.7961463, 'lng': -51.1501774}, 'html_instructions': 'Turn <b>left</b>', 'maneuver': 'turn-left', 'polyline': {'points': 'trytDxmewHDZ`@MdASdAQb@Gf@K^IZM\\\\OBCTMFG^YTQNMFG\\\\UNKNINGTGRERCPAF?R@j@@F@~AJpAL|@H^F'}, 'start_location': {'lat': -29.791308, 'lng': -51.1511748}, 'travel_mode': 'DRIVING'}, {'distance': {'text': '33 m', 'value': 33}, 'duration': {'text': '1 min', 'value': 4}, 'end_location': {'lat': -29.796396, 'lng': -51.15036019999999}, 'html_instructions': 'Continue straight', 'maneuver': 'straight', 'polyline': {'points': '|pztDrgewHNFLHRP'}, 'start_location': {'lat': -29.7961463, 'lng': -51.1501774}, 'travel_mode': 'DRIVING'}, {'distance': {'text': '0.6 km', 'value': 586}, 'duration': {'text': '1 min', 'value': 56}, 'end_location': {'lat': -29.7986827, 'lng': -51.1555812}, 'html_instructions': 'At the roundabout, take the <b>1st</b> exit', 'maneuver': 'roundabout-right', 'polyline': {'points': 'nrztDvhewH@B@@?@@@@@@@@@@@?@@@@@@@@?@@@@@@@@@?@@@@@?@@@?@@@@JLHJ@DL\\\\J`@F`@BVD^DtABd@Bd@?BL~@Ll@Nj@DPLZXj@`@f@JJX\\\\`@d@TXx@hAJTNd@Hj@@JBj@FV'}, 'start_location': {'lat': -29.796396, 'lng': -51.15036019999999}, 'travel_mode': 'DRIVING'}, {'distance': {'text': '0.2 km', 'value': 187}, 'duration': {'text': '1 min', 'value': 20}, 'end_location': {'lat': -29.7977886, 'lng': -51.1571405}, 'html_instructions': 'At the roundabout, take the <b>2nd</b> exit', 'maneuver': 'roundabout-right', 'polyline': {'points': 'v`{tDjifwHA@A@?@A??@?@A??@?@?@?@?@?@?@?@?@@??@?@@??@@??@G@?@C@ABCTIXKXQZEFKRQVqAnB'}, 'start_location': {'lat': -29.7986827, 'lng': -51.1555812}, 'travel_mode': 'DRIVING'}, {'distance': {'text': '54 m', 'value': 54}, 'duration': {'text': '1 min', 'value': 22}, 'end_location': {'lat': -29.7975427, 'lng': -51.1566894}, 'html_instructions': 'Turn <b>right</b><div style=\"font-size:0.9em\">Destination will be on the left</div>', 'maneuver': 'turn-right', 'polyline': {'points': 'd{ztDbsfwH[UIUEWEU'}, 'start_location': {'lat': -29.7977886, 'lng': -51.1571405}, 'travel_mode': 'DRIVING'}], 'traffic_speed_entry': [], 'via_waypoint': []}], 'overview_polyline': {'points': 'ryztDhpfwHJl@HTZTYb@SZOVMb@E@GDEJ?J?Bi@nAi@tA_@z@_@b@UL_@NYD[@c@Eg@SQOa@e@c@u@k@cAY[y@k@o@QOBEB?AACCAGCG?GBw@PgDj@_@FBTDj@LlB?d@OrAWfAo@zAcBlCiA`Bq@t@m@`@k@PWBw@DwAIcH{@cCUk@?c@Je@Vk@d@}@t@u@f@k@Nu@Bm@@w@KaAW_A_@aAq@{@w@yBcCcEkEkOsPyBcCqAuAcA_Ac@a@[SyAs@w@Y{@S}E_AsJiB_GkA}Bc@?g@]iDY_DQ{BeAwLQ_CmA_PCWIkAYF{Et@}Cd@}B^X~BhBUhAOPhA|Bc@pDk@vFcAPnBRpAHnAT`BhCg@bAAv@?~A?hCFrCDtELzBBhADn@GlCa@hBWpDq@vHoAzCw@nASbB[Ud@ArAEnCsCBa@?`@?rCC`DFWgDWmCiG~@{Cz@eBXaJxAoEn@P}Ab@iE^eEd@gGl@_H|@gJh@iFRqE\\\\_GBWCVIpAYdFMxC[rCu@`IUzB[pDQlBGr@t@Gv@EhBUb@G~Ce@hAUrEgAhDeAhA[nAe@zD_AtBk@bA[`FaB|@dClAzCdA|Cj@fA?@?B?DBBBBB?VpAZxA\\\\~@DJZz@~C`JfAxCdBtFVdAZjCVvBDZ`@MjCe@jASz@W`@SrAaAdAw@^Qh@M`ACr@BpDX|AP\\\\PVXLNNJFBX\\\\Nb@RbAHv@HzBBh@ZlBT|@f@fAhBvBnAbBZz@Jv@Bj@FVA@ABA@AF@L@BEBI\\\\Ur@Wb@]j@qAnB[UOm@EU'}, 'summary': 'Av. Getúlio Vargas', 'warnings': [], 'waypoint_order': [0, 1, 2]}], 'status': 'OK'}\n",
      "Distância total: 13.06 km\n",
      "Duração total: 29.12 mins\n",
      "Ordem otimizada das paradas: [0, 1, 2]\n",
      "Detalhes das paradas:\n",
      "4.9 km, 10 mins\n",
      "2.0 km, 6 mins\n",
      "2.0 km, 5 mins\n",
      "4.1 km, 9 mins\n"
     ]
    }
   ],
   "source": [
    "\n",
    "def get_optimized_route(start_location, stop_locations):\n",
    "    # Endpoint da API de Rotas\n",
    "    directions_url = \"https://maps.googleapis.com/maps/api/directions/json\"\n",
    "\n",
    "    # Definir parâmetros da solicitação\n",
    "    params = {\n",
    "        \"origin\": start_location,\n",
    "        \"destination\": start_location, \n",
    "        \"waypoints\": \"|\".join(stop_locations),\n",
    "        \"optimize_waypoint\": \"true\",\n",
    "        \"key\": GOOGLE_MAPS_API_KEY\n",
    "    }\n",
    "\n",
    "    # Realizar a solicitação\n",
    "    response = requests.get(directions_url, params=params)\n",
    "    response_data = response.json()\n",
    "\n",
    "    # Verificar erros\n",
    "    if response.status_code != 200 or response_data.get(\"status\") != \"OK\":\n",
    "        print(\"Erro ao obter rota otimizada:\", response_data.get(\"error_message\"))\n",
    "        return None\n",
    "\n",
    "    # Extrair informações relevantes\n",
    "    route_info = {\n",
    "        \"total_distance\": 0,\n",
    "        \"total_duration\": 0,\n",
    "        \"optimized_order\": [],\n",
    "        \"steps\": []\n",
    "    }\n",
    "\n",
    "    # Analisar os dados da resposta\n",
    "    route = response_data[\"routes\"][0]\n",
    "    legs = route[\"legs\"]\n",
    "    for idx, leg in enumerate(legs):\n",
    "        route_info[\"total_distance\"] += leg[\"distance\"][\"value\"]\n",
    "        route_info[\"total_duration\"] += leg[\"duration\"][\"value\"]\n",
    "        route_info[\"steps\"].append({\n",
    "            \"start_address\": leg[\"start_address\"],\n",
    "            \"end_address\": leg[\"end_address\"],\n",
    "            \"distance\": leg[\"distance\"][\"text\"],\n",
    "            \"duration\": leg[\"duration\"][\"text\"]\n",
    "        })\n",
    "\n",
    "    # Ordem otimizada das paradas\n",
    "    route_info[\"optimized_order\"] = route[\"waypoint_order\"]\n",
    "\n",
    "    # Converter distância total e duração para formatos legíveis\n",
    "    route_info[\"total_distance\"] = f\"{route_info['total_distance'] / 1000:.2f} km\"\n",
    "    route_info[\"total_duration\"] = f\"{route_info['total_duration'] / 60:.2f} mins\"\n",
    "\n",
    "    print(response_data)\n",
    "    return route_info\n",
    "\n",
    "\n",
    "start = \"Av. Unisinos, 950 - Cristo Rei, São Leopoldo - RS, 93022-750\"\n",
    "stops = [\n",
    "    \"R. Primeiro de Março, 821 - Centro, São Leopoldo - RS, 93010-210\",\n",
    "    \"Cemitério Municipal - Cristo Rei, São Leopoldo - RS, 93020-190\",\n",
    "    \"R. Pres. João Goulart, 1080 - Morro do Espelho, São Leopoldo - RS, 93030-090\",\n",
    "]\n",
    "route_data = get_optimized_route(start, stops)\n",
    "\n",
    "if route_data:\n",
    "    print(\"Distância total:\", route_data[\"total_distance\"])\n",
    "    print(\"Duração total:\", route_data[\"total_duration\"])\n",
    "    print(\"Ordem otimizada das paradas:\", route_data[\"optimized_order\"])\n",
    "    print(\"Detalhes das paradas:\")\n",
    "    for step in route_data[\"steps\"]:\n",
    "        print(f\"{step['distance']}, {step['duration']}\")\n"
   ]
  }
 ],
 "metadata": {
  "kernelspec": {
   "display_name": ".venv",
   "language": "python",
   "name": "python3"
  },
  "language_info": {
   "codemirror_mode": {
    "name": "ipython",
    "version": 3
   },
   "file_extension": ".py",
   "mimetype": "text/x-python",
   "name": "python",
   "nbconvert_exporter": "python",
   "pygments_lexer": "ipython3",
   "version": "3.12.4"
  }
 },
 "nbformat": 4,
 "nbformat_minor": 2
}
